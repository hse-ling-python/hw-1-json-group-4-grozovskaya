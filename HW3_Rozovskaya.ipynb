{
 "cells": [
  {
   "cell_type": "markdown",
   "metadata": {},
   "source": [
    "# Домашнее задание 1: обработка твитов\n",
    "\n",
    "Дедлайн: 03.10.2019\n",
    "\n",
    "## Задание 1\n",
    "\n",
    "Сколько твитов в наборе?\n",
    "\n",
    "_**Решение 1:**_\n",
    "\n",
    "(Комментировать тут нечего: решение было дано в конеспекте семинара)"
   ]
  },
  {
   "cell_type": "code",
   "execution_count": 1,
   "metadata": {},
   "outputs": [
    {
     "name": "stdout",
     "output_type": "stream",
     "text": [
      "2556\n"
     ]
    }
   ],
   "source": [
    "import json\n",
    "\n",
    "twits = []\n",
    "for line in open('hw_3_twitter.json'):\n",
    "    twits.append(json.loads(line))\n",
    "print(len(twits))"
   ]
  },
  {
   "cell_type": "markdown",
   "metadata": {},
   "source": [
    "## Задание 2\n",
    "\n",
    "Какой процент твитов составляют удаленные записи? (помеченные как deleted).\n",
    "\n",
    "_**Решение 2:**_\n",
    "\n",
    "Через документацию Twitter и редактор Notepad рассмотрим структуру данных в файле ещё раз.\n",
    "\n",
    "В массиве twits каждый элемент - это словарь. \n",
    "\n",
    "Из всех пар первого уровня (потому что значение в паре само может быть словарём) нам нужны те, у которых ключи \"delete\".\n",
    "\n",
    "Метод get() возвращает значение по указанному ключу. Если указанного ключа не существует, метод вернёт None и ненужная строка не попадёт в наш список удалённых записей."
   ]
  },
  {
   "cell_type": "code",
   "execution_count": 2,
   "metadata": {
    "scrolled": true
   },
   "outputs": [
    {
     "name": "stdout",
     "output_type": "stream",
     "text": [
      "14.16 %\n"
     ]
    }
   ],
   "source": [
    "deleted_twits = [] #удалённые твиты\n",
    "exist_twits = [] # задел на задание 3: не-удалённые твиты\n",
    "\n",
    "for line in twits:\n",
    "    if line.get(\"delete\") != None: \n",
    "        deleted_twits.append(line)\n",
    "    else:\n",
    "        exist_twits.append(line)  # задел на задание 3\n",
    "\n",
    "percentage = (len(deleted_twits)/len(twits))*100\n",
    "percentage = str(round(percentage, 2)) # запись с 2мя знаками после запятой аккуратней\n",
    "print(percentage, \"%\")"
   ]
  },
  {
   "cell_type": "markdown",
   "metadata": {},
   "source": [
    "## Задание 3\n",
    "\n",
    "Какие самые популярные языки твитов?\n",
    "\n",
    "_**Решение 3:**_\n",
    "\n",
    "В прошлом задании мы создали список не-удалённых твитов exist_twits. Теперь будем пользоваться им постоянно! В частности, сейчас.\n",
    "\n",
    "Из документации мы знаем, что в словаре-твите есть ключ \"user\". Значение этого ключа - словарь. В нём и содержится интересующая нас пара с ключом \"lang\" и значением в виде сокращённого обозначения языка."
   ]
  },
  {
   "cell_type": "code",
   "execution_count": 51,
   "metadata": {
    "scrolled": true
   },
   "outputs": [
    {
     "name": "stdout",
     "output_type": "stream",
     "text": [
      "1048   en\n",
      "411   ja\n",
      "183   es\n",
      "116   ko\n",
      "104   th\n",
      "80   pt\n",
      "69   ar\n",
      "39   fr\n",
      "27   id\n",
      "24   tr\n",
      "22   ru\n",
      "9   en-gb\n",
      "8   de\n",
      "8   it\n",
      "7   nl\n"
     ]
    }
   ],
   "source": [
    "lang_data = [] # информация о языках\n",
    "\n",
    "for line in exist_twits:\n",
    "    user_dict = line[\"user\"]\n",
    "    lang_data.append(user_dict.get(\"lang\"))\n",
    "\n",
    "from collections import Counter # частотный словарь\n",
    "\n",
    "cntr = Counter(lang_data)\n",
    "lang_list = cntr.most_common(15)\n",
    "\n",
    "for item in lang_list: # для красивого вывода\n",
    "    print(item[1],\" \", item[0])"
   ]
  },
  {
   "cell_type": "markdown",
   "metadata": {},
   "source": [
    "## Задание 4\n",
    "\n",
    "Есть ли твиты от одного и того же пользователя? Если да, то сколько таких пользователей?\n",
    "\n",
    "**_Решение 4:_**\n",
    "\n",
    "Так как имена могут повторяться, а ID пользователя неудобно для восприятия, создаём их комбинированный список. Дальше - составляем частотный словарь упоминания этих комбинаций. Элементы частотного словаря проверяем на соответствие условию: если человек написал больше одного твита, то мы добавляем 1 в счётчик \"num\"."
   ]
  },
  {
   "cell_type": "code",
   "execution_count": 71,
   "metadata": {},
   "outputs": [
    {
     "name": "stdout",
     "output_type": "stream",
     "text": [
      "25\n"
     ]
    }
   ],
   "source": [
    "id_name_data = [] # вся идентифицирующая инфа\n",
    "\n",
    "for line in exist_twits:\n",
    "    user_dict = line[\"user\"]\n",
    "    id_ = user_dict.get(\"id_str\") # достаём ID\n",
    "    name = user_dict.get(\"name\") # достаём имя\n",
    "    id_name = id_, name # ОП! ID-имя С:\n",
    "    id_name_data.append(id_name)\n",
    "\n",
    "from collections import Counter # частотный словарь\n",
    "\n",
    "cntr = Counter(id_name_data)\n",
    "name_list = cntr.most_common() # список авторов, ранжированный по кол-ву их твитов\n",
    "\n",
    "num = 0 \n",
    "for item in name_list:\n",
    "    if item[1] > 1:\n",
    "        num = num + 1 # кол-во авторов, написавших более 1го твита\n",
    "    \n",
    "print(num)"
   ]
  },
  {
   "cell_type": "markdown",
   "metadata": {},
   "source": [
    "## Задание 5\n",
    "\n",
    "Топ-20 хэштегов (для них есть специальное поле).\n",
    "\n",
    "_**Решение 5:**_\n",
    "\n",
    "Алгоритм очень похож на решение 3го задания, но здесь вновь потребовалось обратиться к структуре файла. Выяснилось, что ключ \"hashtags\" содержит в себе не список, а словарь, и его нужно открыть с помощью ключа \"text\", чтобы вычленить наконец текст хэштэга."
   ]
  },
  {
   "cell_type": "code",
   "execution_count": 13,
   "metadata": {
    "scrolled": true
   },
   "outputs": [
    {
     "name": "stdout",
     "output_type": "stream",
     "text": [
      "17   BTS\n",
      "13   방탄소년단\n",
      "11   AMAs\n",
      "8   人気投票ガチャ\n",
      "7   태형\n",
      "6   뷔\n",
      "5   BTSinChicago\n",
      "5   BTSLoveYourselfTour\n",
      "5   오늘의방탄\n",
      "5   PledgeForSwachhBharat\n",
      "5   MPN\n",
      "4   PCAs\n",
      "4   V\n",
      "4   시카고1회차공연\n",
      "4   เป๊กผลิตโชค\n",
      "4   JIMIN\n",
      "3   running\n",
      "3   NCT\n",
      "3   지민\n",
      "3   WajahmuPlastik\n"
     ]
    }
   ],
   "source": [
    "hashtag_data = [] # все хэштэги\n",
    "\n",
    "\n",
    "\n",
    "for line in exist_twits:\n",
    "    user_dict = line[\"entities\"] # другой ключ для словаря-твита\n",
    "    hashtag = user_dict.get(\"hashtags\") # ещё один словарь\n",
    "    \n",
    "    for item in hashtag:\n",
    "        #print(item)\n",
    "        hashtag_data.append(item.get(\"text\"))\n",
    "\n",
    "from collections import Counter # частотный словарь\n",
    "\n",
    "cntr = Counter(hashtag_data)\n",
    "hashtag_list = cntr.most_common(20)\n",
    "\n",
    "for item in hashtag_list: # для красивого вывода\n",
    "    print(item[1],\" \", item[0])"
   ]
  },
  {
   "cell_type": "markdown",
   "metadata": {},
   "source": [
    "## Задание 6\n",
    "\n",
    "Предобработать тексты оригинальных твитов (не ретвитов) на английском языке (убрать пунктуацию, привести к нижнему регистру) и составить частотный словарь.\n",
    "\n",
    "**_Решение 6:_**\n",
    "\n",
    "Для начала потребуется отсортировать оригинальные твиты от ретвитов. Далее - выбираем из оригинальных англоязычные. Затем вычленим из них текст, уровняем и почистим его, в завершение - частотный словарь."
   ]
  },
  {
   "cell_type": "code",
   "execution_count": 49,
   "metadata": {},
   "outputs": [
    {
     "name": "stdout",
     "output_type": "stream",
     "text": [
      "66   the\n",
      "37   and\n",
      "31   i\n",
      "30   to\n",
      "30   a\n",
      "24   you\n",
      "19   it\n",
      "19   is\n",
      "18   of\n",
      "16   in\n",
      "15   be\n",
      "14   on\n",
      "12   for\n",
      "12   not\n",
      "12   with\n",
      "11   that\n",
      "11   my\n",
      "10   so\n",
      "10   are\n",
      "10   have\n"
     ]
    }
   ],
   "source": [
    "original_twits = []\n",
    "for line in exist_twits: # находим все оригинальные твиты (не-ретвиты)\n",
    "    if line.get(\"retweeted_status\") == None:\n",
    "        original_twits.append(line)\n",
    "\n",
    "en_twits = []    \n",
    "for line in original_twits: # находим среди них англоязычные\n",
    "    user_dict = line[\"user\"]\n",
    "    if user_dict.get(\"lang\") == \"en\":\n",
    "        en_twits.append(line) # получаем массив текстов\n",
    "        \n",
    "import re\n",
    "\n",
    "words = []\n",
    "for line in en_twits: # приводим каждый текст к нижнему регистру\n",
    "    text = line.get(\"text\")\n",
    "    low_text = text.lower()\n",
    "    \n",
    "    word_list = re.findall(\" ([a-z]+) \", low_text) # достаём только слова\n",
    "    words.extend(word_list)\n",
    "\n",
    "from collections import Counter # частотный словарь\n",
    "\n",
    "cntr = Counter(words)\n",
    "words_cntr = cntr.most_common(20)\n",
    "\n",
    "for item in words_cntr: # для красивого вывода\n",
    "    print(item[1],\" \", item[0])"
   ]
  },
  {
   "cell_type": "markdown",
   "metadata": {},
   "source": [
    "## Задание 7\n",
    "\n",
    "Найти количество подписчиков (фолловеров) у авторов твитов и вывести топ-10.\n",
    "\n",
    "**_Решение 7:_**\n",
    "\n",
    "Задание похоже на задание 4, но теперь нам потребуется создать словарь с парами \"имя\" : \"количество подписчиков\", чтобы потом расставить его элементы в порядке убывания."
   ]
  },
  {
   "cell_type": "code",
   "execution_count": 91,
   "metadata": {},
   "outputs": [
    {
     "name": "stdout",
     "output_type": "stream",
     "text": [
      "2521403   Filosofía♕\n",
      "1491309   FITNESS Magazine\n",
      "1206759   malaysiakini.com\n",
      "1137374   NYT Science\n",
      "625463   Gramática\n",
      "392472   TGRT Haber\n",
      "383698   The Sun Football ⚽\n",
      "374222   Melbourne, Australia\n",
      "318189   Roznama Express\n",
      "311319   💞 ცųཞɠɛཞცơơɠıɛ 💞\n"
     ]
    }
   ],
   "source": [
    "name_fcount_data = {} # создаём словарь\n",
    "\n",
    "for line in exist_twits:\n",
    "    user_dict = line[\"user\"]\n",
    "    name = user_dict.get(\"name\")  \n",
    "    fcount = user_dict.get(\"followers_count\") \n",
    "    name_fcount_data[name] = [fcount] # складываем в словарь пары имя:кол-во подписчиков\n",
    "\n",
    "from collections import Counter # частотный словарь\n",
    "\n",
    "cntr = Counter(name_fcount_data)\n",
    "popular_list = cntr.most_common(10)\n",
    "\n",
    "for item in popular_list: # для красивого вывода\n",
    "    print(item[1][0],\" \", item[0])"
   ]
  },
  {
   "cell_type": "markdown",
   "metadata": {},
   "source": [
    "## Задание 8*\n",
    "\n",
    "Топ-10 источников твита (из какого приложения написан) (подсказка: для обработки используйте регулярные выражения).\n",
    "\n",
    "_**Решение 8:**_\n",
    "\n",
    "Смотрим на документацию Твиттера, потом смотрим на то, как всё это выглядит в настоящем файле. Находим какие-то опорные объекты в строках (например, rel=\"nofollow\">) и в своём регулярном выражении отражаем их, а тот кусочек строки, который нас непосредственно интересует, выделяем круглыми скобками.\n",
    "Привычно складываем всё в списочек и делаем частотный словарь."
   ]
  },
  {
   "cell_type": "code",
   "execution_count": 97,
   "metadata": {},
   "outputs": [
    {
     "name": "stdout",
     "output_type": "stream",
     "text": [
      "800   Twitter for iPhone\n",
      "695   Twitter for Android\n",
      "140   Twitter Web Client\n",
      "122   twittbot.net\n",
      "51   Twitter Lite\n",
      "28   Twitter for iPad\n",
      "23   TweetDeck\n",
      "17   Facebook\n",
      "14   IFTTT\n",
      "10   تطبيق قرآني\n"
     ]
    }
   ],
   "source": [
    "import re\n",
    "\n",
    "source_list = []\n",
    "for line in exist_twits:\n",
    "    source_item = line.get(\"source\")\n",
    "    result = re.findall('rel=\"nofollow\">(.+)</a>', source_item)\n",
    "    source_list.extend(result)\n",
    "\n",
    "from collections import Counter # частотный словарь\n",
    "\n",
    "cntr = Counter(source_list)\n",
    "sources = cntr.most_common(10)\n",
    "\n",
    "for item in sources: # для красивого вывода\n",
    "    print(item[1],\" \", item[0])"
   ]
  }
 ],
 "metadata": {
  "kernelspec": {
   "display_name": "Python 3",
   "language": "python",
   "name": "python3"
  },
  "language_info": {
   "codemirror_mode": {
    "name": "ipython",
    "version": 3
   },
   "file_extension": ".py",
   "mimetype": "text/x-python",
   "name": "python",
   "nbconvert_exporter": "python",
   "pygments_lexer": "ipython3",
   "version": "3.7.3"
  }
 },
 "nbformat": 4,
 "nbformat_minor": 2
}
